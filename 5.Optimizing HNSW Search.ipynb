{
 "cells": [
  {
   "cell_type": "code",
   "execution_count": 1,
   "id": "c7e55908-829a-4ca0-8741-36cf858a6073",
   "metadata": {
    "height": 47
   },
   "outputs": [],
   "source": [
    "import warnings\n",
    "warnings.filterwarnings('ignore')"
   ]
  },
  {
   "cell_type": "code",
   "execution_count": 2,
   "id": "e79d2302-3983-4e72-a6b0-262d63fd57ad",
   "metadata": {
    "height": 202
   },
   "outputs": [
    {
     "data": {
      "text/plain": [
       "CollectionInfo(status=<CollectionStatus.GREEN: 'green'>, optimizer_status=<OptimizersStatusOneOf.OK: 'ok'>, vectors_count=None, indexed_vectors_count=85988, points_count=42994, segments_count=2, config=CollectionConfig(params=CollectionParams(vectors={'product_description': VectorParams(size=384, distance=<Distance.COSINE: 'Cosine'>, hnsw_config=None, quantization_config=None, on_disk=None, datatype=None), 'product_name': VectorParams(size=384, distance=<Distance.COSINE: 'Cosine'>, hnsw_config=None, quantization_config=None, on_disk=None, datatype=None)}, shard_number=1, sharding_method=None, replication_factor=1, write_consistency_factor=1, read_fan_out_factor=None, on_disk_payload=True, sparse_vectors=None), hnsw_config=HnswConfig(m=16, ef_construct=100, full_scan_threshold=10000, max_indexing_threads=0, on_disk=False, payload_m=None), optimizer_config=OptimizersConfig(deleted_threshold=0.2, vacuum_min_vector_number=1000, default_segment_number=2, max_segment_size=None, memmap_threshold=None, indexing_threshold=1000, flush_interval_sec=5, max_optimization_threads=None), wal_config=WalConfig(wal_capacity_mb=32, wal_segments_ahead=0), quantization_config=None), payload_schema={})"
      ]
     },
     "execution_count": 2,
     "metadata": {},
     "output_type": "execute_result"
    }
   ],
   "source": [
    "from qdrant_client import QdrantClient, models\n",
    "\n",
    "client = QdrantClient(\"http://localhost:6333\", timeout=600)\n",
    "client.delete_collection(\"wands-products\")\n",
    "client.recover_snapshot(\n",
    "    \"wands-products\", \n",
    "    \"https://storage.googleapis.com/deeplearning-course-c1/snapshots/wands-products.snapshot\",\n",
    ")\n",
    "collection = client.get_collection(\"wands-products\")\n",
    "collection"
   ]
  },
  {
   "cell_type": "markdown",
   "id": "6851f682-907b-4bcf-aaf7-55cabbcde19f",
   "metadata": {},
   "source": [
    "## HNSW parameters"
   ]
  },
  {
   "cell_type": "code",
   "execution_count": 3,
   "id": "8d5379f6-be97-4dcf-98a3-060d88d4d3c6",
   "metadata": {
    "height": 30
   },
   "outputs": [
    {
     "data": {
      "text/plain": [
       "HnswConfig(m=16, ef_construct=100, full_scan_threshold=10000, max_indexing_threads=0, on_disk=False, payload_m=None)"
      ]
     },
     "execution_count": 3,
     "metadata": {},
     "output_type": "execute_result"
    }
   ],
   "source": [
    "collection.config.hnsw_config"
   ]
  },
  {
   "cell_type": "markdown",
   "id": "85f9e8ea-c5d0-487d-b74d-b37aabe2c2d2",
   "metadata": {},
   "source": [
    "## Test queries"
   ]
  },
  {
   "cell_type": "code",
   "execution_count": 4,
   "id": "6851df66-ded3-40f2-b252-c680a32921de",
   "metadata": {
    "height": 83
   },
   "outputs": [
    {
     "data": {
      "application/vnd.jupyter.widget-view+json": {
       "model_id": "139925e14bb14346b64b7471b39f5727",
       "version_major": 2,
       "version_minor": 0
      },
      "text/plain": [
       "modules.json:   0%|          | 0.00/349 [00:00<?, ?B/s]"
      ]
     },
     "metadata": {},
     "output_type": "display_data"
    },
    {
     "data": {
      "application/vnd.jupyter.widget-view+json": {
       "model_id": "cef9b200d4de44c59f238486d9a260ca",
       "version_major": 2,
       "version_minor": 0
      },
      "text/plain": [
       "config_sentence_transformers.json:   0%|          | 0.00/116 [00:00<?, ?B/s]"
      ]
     },
     "metadata": {},
     "output_type": "display_data"
    },
    {
     "data": {
      "application/vnd.jupyter.widget-view+json": {
       "model_id": "72cffff09cf7485ba83a05cf8cc0a358",
       "version_major": 2,
       "version_minor": 0
      },
      "text/plain": [
       "README.md:   0%|          | 0.00/10.7k [00:00<?, ?B/s]"
      ]
     },
     "metadata": {},
     "output_type": "display_data"
    },
    {
     "data": {
      "application/vnd.jupyter.widget-view+json": {
       "model_id": "f85424b469f549258eb64535414681b5",
       "version_major": 2,
       "version_minor": 0
      },
      "text/plain": [
       "sentence_bert_config.json:   0%|          | 0.00/53.0 [00:00<?, ?B/s]"
      ]
     },
     "metadata": {},
     "output_type": "display_data"
    },
    {
     "data": {
      "application/vnd.jupyter.widget-view+json": {
       "model_id": "5ab6a9f2edb7486abe024739efe3b59b",
       "version_major": 2,
       "version_minor": 0
      },
      "text/plain": [
       "config.json:   0%|          | 0.00/612 [00:00<?, ?B/s]"
      ]
     },
     "metadata": {},
     "output_type": "display_data"
    },
    {
     "data": {
      "application/vnd.jupyter.widget-view+json": {
       "model_id": "5564a984eae640138aec2d0a9c617e12",
       "version_major": 2,
       "version_minor": 0
      },
      "text/plain": [
       "model.safetensors:   0%|          | 0.00/90.9M [00:00<?, ?B/s]"
      ]
     },
     "metadata": {},
     "output_type": "display_data"
    },
    {
     "data": {
      "application/vnd.jupyter.widget-view+json": {
       "model_id": "852f828fd8ec4598940feeeb85cab0f6",
       "version_major": 2,
       "version_minor": 0
      },
      "text/plain": [
       "tokenizer_config.json:   0%|          | 0.00/350 [00:00<?, ?B/s]"
      ]
     },
     "metadata": {},
     "output_type": "display_data"
    },
    {
     "data": {
      "application/vnd.jupyter.widget-view+json": {
       "model_id": "3fca6e1127604d8bb51475dede8baa59",
       "version_major": 2,
       "version_minor": 0
      },
      "text/plain": [
       "vocab.txt:   0%|          | 0.00/232k [00:00<?, ?B/s]"
      ]
     },
     "metadata": {},
     "output_type": "display_data"
    },
    {
     "data": {
      "application/vnd.jupyter.widget-view+json": {
       "model_id": "e8a674a7b9764b2ab5b5361736f6e69b",
       "version_major": 2,
       "version_minor": 0
      },
      "text/plain": [
       "tokenizer.json:   0%|          | 0.00/466k [00:00<?, ?B/s]"
      ]
     },
     "metadata": {},
     "output_type": "display_data"
    },
    {
     "data": {
      "application/vnd.jupyter.widget-view+json": {
       "model_id": "cef421207ddc4fc08dd1ed9bfd2b884a",
       "version_major": 2,
       "version_minor": 0
      },
      "text/plain": [
       "special_tokens_map.json:   0%|          | 0.00/112 [00:00<?, ?B/s]"
      ]
     },
     "metadata": {},
     "output_type": "display_data"
    },
    {
     "data": {
      "application/vnd.jupyter.widget-view+json": {
       "model_id": "ae8ca99735374df1a14f242ddef12c65",
       "version_major": 2,
       "version_minor": 0
      },
      "text/plain": [
       "1_Pooling/config.json:   0%|          | 0.00/190 [00:00<?, ?B/s]"
      ]
     },
     "metadata": {},
     "output_type": "display_data"
    }
   ],
   "source": [
    "from sentence_transformers import SentenceTransformer\n",
    "\n",
    "model = SentenceTransformer(\"all-MiniLM-L6-v2\")"
   ]
  },
  {
   "cell_type": "code",
   "execution_count": 5,
   "id": "74912810-c4ef-4373-86d6-77a095ef01ec",
   "metadata": {
    "height": 200
   },
   "outputs": [
    {
     "data": {
      "text/html": [
       "<div>\n",
       "<style scoped>\n",
       "    .dataframe tbody tr th:only-of-type {\n",
       "        vertical-align: middle;\n",
       "    }\n",
       "\n",
       "    .dataframe tbody tr th {\n",
       "        vertical-align: top;\n",
       "    }\n",
       "\n",
       "    .dataframe thead th {\n",
       "        text-align: right;\n",
       "    }\n",
       "</style>\n",
       "<table border=\"1\" class=\"dataframe\">\n",
       "  <thead>\n",
       "    <tr style=\"text-align: right;\">\n",
       "      <th></th>\n",
       "      <th>query</th>\n",
       "      <th>query_class</th>\n",
       "      <th>query_embedding</th>\n",
       "    </tr>\n",
       "    <tr>\n",
       "      <th>query_id</th>\n",
       "      <th></th>\n",
       "      <th></th>\n",
       "      <th></th>\n",
       "    </tr>\n",
       "  </thead>\n",
       "  <tbody>\n",
       "    <tr>\n",
       "      <th>137</th>\n",
       "      <td>orren ellis l shaped desk</td>\n",
       "      <td>Desks</td>\n",
       "      <td>[-0.022470461204648018, 0.08534972369670868, -...</td>\n",
       "    </tr>\n",
       "    <tr>\n",
       "      <th>62</th>\n",
       "      <td>7qt slow cooker</td>\n",
       "      <td>Crock Pots &amp; Slow Cookers</td>\n",
       "      <td>[0.017079029232263565, 0.027168672531843185, 0...</td>\n",
       "    </tr>\n",
       "    <tr>\n",
       "      <th>399</th>\n",
       "      <td>12v dirt bike</td>\n",
       "      <td>Ride-On Toys</td>\n",
       "      <td>[-0.03515655919909477, 0.12637042999267578, -0...</td>\n",
       "    </tr>\n",
       "    <tr>\n",
       "      <th>440</th>\n",
       "      <td>wood bar stools</td>\n",
       "      <td>Bar Stools</td>\n",
       "      <td>[0.0035549518652260303, -0.05252767726778984, ...</td>\n",
       "    </tr>\n",
       "    <tr>\n",
       "      <th>372</th>\n",
       "      <td>verden callan</td>\n",
       "      <td>Door Knobs</td>\n",
       "      <td>[-0.17008785903453827, 0.04301108419895172, -0...</td>\n",
       "    </tr>\n",
       "  </tbody>\n",
       "</table>\n",
       "</div>"
      ],
      "text/plain": [
       "                              query                query_class  \\\n",
       "query_id                                                         \n",
       "137       orren ellis l shaped desk                      Desks   \n",
       "62                  7qt slow cooker  Crock Pots & Slow Cookers   \n",
       "399                   12v dirt bike               Ride-On Toys   \n",
       "440                 wood bar stools                 Bar Stools   \n",
       "372                   verden callan                 Door Knobs   \n",
       "\n",
       "                                            query_embedding  \n",
       "query_id                                                     \n",
       "137       [-0.022470461204648018, 0.08534972369670868, -...  \n",
       "62        [0.017079029232263565, 0.027168672531843185, 0...  \n",
       "399       [-0.03515655919909477, 0.12637042999267578, -0...  \n",
       "440       [0.0035549518652260303, -0.05252767726778984, ...  \n",
       "372       [-0.17008785903453827, 0.04301108419895172, -0...  "
      ]
     },
     "execution_count": 5,
     "metadata": {},
     "output_type": "execute_result"
    }
   ],
   "source": [
    "import pandas as pd\n",
    "\n",
    "queries_df = pd.read_csv(\n",
    "    \"shared_data/WANDS/query.csv\", \n",
    "    sep=\"\\t\", \n",
    "    index_col=\"query_id\",\n",
    ")\n",
    "queries_df[\"query_embedding\"] = model.encode(\n",
    "    queries_df[\"query\"].tolist()\n",
    ").tolist()\n",
    "queries_df.sample(n=5)"
   ]
  },
  {
   "cell_type": "markdown",
   "id": "7e390e12-a29f-4852-9066-daf2f9516f46",
   "metadata": {},
   "source": [
    "## ANN search"
   ]
  },
  {
   "cell_type": "code",
   "execution_count": 6,
   "id": "22aced61-6e22-4ebe-bd35-60509e744aa2",
   "metadata": {
    "height": 202
   },
   "outputs": [
    {
     "data": {
      "text/plain": [
       "[ScoredPoint(id=7465, version=116, score=0.9198918, payload=None, vector=None, shard_key=None),\n",
       " ScoredPoint(id=9234, version=144, score=0.82313174, payload=None, vector=None, shard_key=None),\n",
       " ScoredPoint(id=42329, version=661, score=0.8180745, payload=None, vector=None, shard_key=None)]"
      ]
     },
     "execution_count": 6,
     "metadata": {},
     "output_type": "execute_result"
    }
   ],
   "source": [
    "client.search(\n",
    "    \"wands-products\",\n",
    "    query_vector=models.NamedVector(\n",
    "        name=\"product_name\",\n",
    "        vector=model.encode(queries_df.loc[0, \"query\"])\n",
    "    ),\n",
    "    limit=3,\n",
    "    with_vectors=False,\n",
    "    with_payload=False,\n",
    ")"
   ]
  },
  {
   "cell_type": "markdown",
   "id": "81ce6f2f-2fbe-48fe-b3a6-1fa36be0f77f",
   "metadata": {},
   "source": [
    "## kNN search"
   ]
  },
  {
   "cell_type": "code",
   "execution_count": 7,
   "id": "3657ed96-81a5-409b-9502-9eaf551fe434",
   "metadata": {
    "height": 253
   },
   "outputs": [
    {
     "data": {
      "text/plain": [
       "[ScoredPoint(id=7465, version=116, score=0.9198918, payload=None, vector=None, shard_key=None),\n",
       " ScoredPoint(id=9234, version=144, score=0.82313174, payload=None, vector=None, shard_key=None),\n",
       " ScoredPoint(id=42329, version=661, score=0.8180745, payload=None, vector=None, shard_key=None)]"
      ]
     },
     "execution_count": 7,
     "metadata": {},
     "output_type": "execute_result"
    }
   ],
   "source": [
    "client.search(\n",
    "    \"wands-products\",\n",
    "    query_vector=models.NamedVector(\n",
    "        name=\"product_name\",\n",
    "        vector=model.encode(queries_df.loc[0, \"query\"])\n",
    "    ),\n",
    "    limit=3,\n",
    "    with_vectors=False,\n",
    "    with_payload=False,\n",
    "    search_params=models.SearchParams(\n",
    "        exact=True,  # Turns on the exact search mode\n",
    "    ),\n",
    ")"
   ]
  },
  {
   "cell_type": "markdown",
   "id": "e534f367-61fa-4b19-8ca8-e5af289d19a4",
   "metadata": {},
   "source": [
    "### Ground truth"
   ]
  },
  {
   "cell_type": "code",
   "execution_count": null,
   "id": "daef2453-f14d-4d77-9f33-b9285bd71920",
   "metadata": {
    "height": 508
   },
   "outputs": [],
   "source": [
    "from collections import defaultdict\n",
    "from ranx import Qrels\n",
    "\n",
    "knn_qrels_dict = defaultdict(dict)\n",
    "for id, row in queries_df.iterrows():\n",
    "    query_id = f\"query_{id}\"\n",
    "    \n",
    "    results = client.search(\n",
    "        collection_name=\"wands-products\",\n",
    "        query_vector=models.NamedVector(\n",
    "            name=\"product_name\", \n",
    "            vector=row[\"query_embedding\"]\n",
    "        ),\n",
    "        with_vectors=False,\n",
    "        with_payload=False,\n",
    "        limit=100,\n",
    "        search_params=models.SearchParams(\n",
    "            exact=True,  # enable exact search\n",
    "        ),\n",
    "    )\n",
    "    \n",
    "    for point in results:\n",
    "        document_id = f\"doc_{point.id}\"\n",
    "        # The conversion to integer is required because ranx expects integers\n",
    "        knn_qrels_dict[query_id][document_id] = int(point.score * 100)\n",
    "    \n",
    "qrels = Qrels(knn_qrels_dict)\n",
    "qrels"
   ]
  },
  {
   "cell_type": "markdown",
   "id": "8fadd860-a248-4ccc-bac9-d71be7306d56",
   "metadata": {},
   "source": [
    "### ANN search"
   ]
  },
  {
   "cell_type": "code",
   "execution_count": null,
   "id": "455e1f41-e3a1-4366-bfac-44e6ac191aba",
   "metadata": {
    "height": 525
   },
   "outputs": [],
   "source": [
    "from ranx import Run\n",
    "\n",
    "run_dict = defaultdict(dict)\n",
    "for id, row in queries_df.iterrows():\n",
    "    query_id = f\"query_{id}\"\n",
    "    \n",
    "    results = client.search(\n",
    "        collection_name=\"wands-products\",\n",
    "        query_vector=models.NamedVector(\n",
    "            name=\"product_name\", \n",
    "            vector=row[\"query_embedding\"]\n",
    "        ),\n",
    "        with_vectors=False,\n",
    "        with_payload=False,\n",
    "        limit=100,\n",
    "        search_params=models.SearchParams(\n",
    "            exact=False,  # disable exact search\n",
    "        ),\n",
    "    )\n",
    "    \n",
    "    for point in results:\n",
    "        document_id = f\"doc_{point.id}\"\n",
    "        run_dict[query_id][document_id] = point.score\n",
    "\n",
    "initial_run = Run(\n",
    "    run_dict, \n",
    "    name=\"initial\",\n",
    ")\n",
    "initial_run"
   ]
  },
  {
   "cell_type": "code",
   "execution_count": null,
   "id": "0bc73f36-ce2c-45d6-b2e6-834e7b7fe24d",
   "metadata": {
    "height": 132
   },
   "outputs": [],
   "source": [
    "from ranx import evaluate\n",
    "\n",
    "evaluate(\n",
    "    qrels=qrels, \n",
    "    run=initial_run, \n",
    "    metrics=[\"precision@25\"]\n",
    ")"
   ]
  },
  {
   "cell_type": "markdown",
   "id": "ca2fa08d-6e24-467c-b277-cae776cb9309",
   "metadata": {},
   "source": [
    "## Tweaking the HNSW parameters"
   ]
  },
  {
   "cell_type": "code",
   "execution_count": null,
   "id": "b6c9f6ec-7612-4fc0-9de5-fe9af772e8b4",
   "metadata": {
    "height": 132
   },
   "outputs": [],
   "source": [
    "client.update_collection(\n",
    "    collection_name=\"wands-products\",\n",
    "    hnsw_config=models.HnswConfigDiff(\n",
    "        m=64, \n",
    "        ef_construct=200,\n",
    "    )\n",
    ")"
   ]
  },
  {
   "cell_type": "code",
   "execution_count": null,
   "id": "87fbd3ce-49e3-455d-8a2d-a7a3bd4658cf",
   "metadata": {
    "height": 185
   },
   "outputs": [],
   "source": [
    "import time\n",
    "\n",
    "time.sleep(1.0)\n",
    "collection = client.get_collection(\"wands-products\")\n",
    "while collection.status != models.CollectionStatus.GREEN:\n",
    "    time.sleep(1.0)\n",
    "    collection = client.get_collection(\"wands-products\")\n",
    "    \n",
    "collection"
   ]
  },
  {
   "cell_type": "code",
   "execution_count": null,
   "id": "cbb4b03d-a3b8-4456-9615-3e4bf86ed19e",
   "metadata": {
    "height": 491
   },
   "outputs": [],
   "source": [
    "tweaked_run_dict = defaultdict(dict)\n",
    "for id, row in queries_df.iterrows():\n",
    "    query_id = f\"query_{id}\"\n",
    "    \n",
    "    results = client.search(\n",
    "        collection_name=\"wands-products\",\n",
    "        query_vector=models.NamedVector(\n",
    "            name=\"product_name\", \n",
    "            vector=row[\"query_embedding\"]\n",
    "        ),\n",
    "        with_vectors=False,\n",
    "        with_payload=False,\n",
    "        limit=100,\n",
    "        search_params=models.SearchParams(\n",
    "            exact=False,  # disable exact search\n",
    "        ),\n",
    "    )\n",
    "    \n",
    "    for point in results:\n",
    "        document_id = f\"doc_{point.id}\"\n",
    "        tweaked_run_dict[query_id][document_id] = point.score\n",
    "    \n",
    "tweaked_run = Run(\n",
    "    tweaked_run_dict, \n",
    "    name=\"tweaked\"\n",
    ")\n",
    "tweaked_run"
   ]
  },
  {
   "cell_type": "code",
   "execution_count": null,
   "id": "5e99b0fe-8723-4193-aec4-7af50f4d296d",
   "metadata": {
    "height": 98
   },
   "outputs": [],
   "source": [
    "evaluate(\n",
    "    qrels=qrels, \n",
    "    run=tweaked_run, \n",
    "    metrics=[\"precision@25\"]\n",
    ")"
   ]
  },
  {
   "cell_type": "code",
   "execution_count": null,
   "id": "594722c8-24b0-496b-9859-943071bc7b78",
   "metadata": {
    "height": 30
   },
   "outputs": [],
   "source": []
  },
  {
   "cell_type": "code",
   "execution_count": null,
   "id": "0abca87e-db68-498e-b137-d00a77f034b3",
   "metadata": {
    "height": 30
   },
   "outputs": [],
   "source": []
  }
 ],
 "metadata": {
  "kernelspec": {
   "display_name": "Python 3 (ipykernel)",
   "language": "python",
   "name": "python3"
  },
  "language_info": {
   "codemirror_mode": {
    "name": "ipython",
    "version": 3
   },
   "file_extension": ".py",
   "mimetype": "text/x-python",
   "name": "python",
   "nbconvert_exporter": "python",
   "pygments_lexer": "ipython3",
   "version": "3.11.5"
  }
 },
 "nbformat": 4,
 "nbformat_minor": 5
}
